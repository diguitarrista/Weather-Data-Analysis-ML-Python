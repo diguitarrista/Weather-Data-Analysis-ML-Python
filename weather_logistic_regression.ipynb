{
 "cells": [
  {
   "cell_type": "code",
   "execution_count": 1,
   "id": "c9cd89df-a6df-4a2c-a7b3-b7438cc18387",
   "metadata": {},
   "outputs": [],
   "source": [
    "# Import Libraries\n",
    "from pyspark.sql import SparkSession\n",
    "from pyspark.sql.functions import *\n",
    "import pandas as pd\n",
    "import matplotlib.pyplot as plt"
   ]
  },
  {
   "cell_type": "code",
   "execution_count": 2,
   "id": "c1d580b7-dd9c-47b8-bc1a-071964b38b33",
   "metadata": {},
   "outputs": [],
   "source": [
    "# Create a Spark Session\n",
    "spark = SparkSession.builder.appName(\"LOGISTIC\").getOrCreate()"
   ]
  },
  {
   "cell_type": "code",
   "execution_count": 3,
   "id": "1d9d28d1-1ccc-4c62-8600-0d3821a28161",
   "metadata": {},
   "outputs": [],
   "source": [
    "# Read the CSV file into a Pandas DataFrame\n",
    "df = pd.read_csv('weather_august.csv')\n",
    "# Create a Pandas Dataframe\n",
    "aug_df = spark.createDataFrame(df)\n",
    "# Convert the PySpark DataFrame to a Pandas DataFrame\n",
    "aug_df_pd = aug_df.toPandas()"
   ]
  },
  {
   "cell_type": "code",
   "execution_count": null,
   "id": "ab5e7ec7-5227-4209-b73e-bfb1537f0f02",
   "metadata": {},
   "outputs": [],
   "source": [
    "# Transform 'Precipitation' column into qualitative variable\n",
    "aug_df_pd['Precipitation'] = df['Precipitation'].apply(lambda x: 1 if x > 0 else 0)\n",
    "\n",
    "# Show the Dataframe\n",
    "aug_df_pd.head()"
   ]
  },
  {
   "cell_type": "code",
   "execution_count": null,
   "id": "e706f6e8-4265-4d60-a937-3789f5d4c98d",
   "metadata": {},
   "outputs": [],
   "source": [
    "# Table of absolute frequencies of the 'Precipitation' variable\n",
    "\n",
    "aug_df_pd['Precipitation'].value_counts()"
   ]
  },
  {
   "cell_type": "code",
   "execution_count": null,
   "id": "3219e353-9d27-4ff0-ace0-45f8acedbcad",
   "metadata": {},
   "outputs": [],
   "source": [
    "import seaborn as sns \n",
    "import statsmodels.api as sm \n",
    "import numpy as np \n",
    "from scipy import stats\n",
    "from statsmodels.iolib.summary2 import summary_col \n",
    "import statsmodels.formula.api as smf\n",
    "\n",
    "import warnings\n",
    "warnings.filterwarnings('ignore')"
   ]
  },
  {
   "cell_type": "code",
   "execution_count": null,
   "id": "87ec7185-e26f-4641-984b-e5acec5d57ff",
   "metadata": {},
   "outputs": [],
   "source": [
    "# Estimation of a binary logistic model\n",
    "prec_model = smf.glm(formula='Precipitation ~  Avarage_Temperature +\\\n",
    "                                Global_Radiation +\\\n",
    "                                Avarage_Atmospheric_Pressure +\\\n",
    "                                Avarage_Dew_Temperature +\\\n",
    "                                Avarage_Relative_Humidity +\\\n",
    "                                Avarage_Wind_Speed', data=aug_df_pd,\n",
    "                         family=sm.families.Binomial()).fit()\n",
    "\n",
    "# Model parameters\n",
    "prec_model.summary()"
   ]
  },
  {
   "cell_type": "code",
   "execution_count": null,
   "id": "f78e65d5-f977-403e-ae2e-e1030bc5d00a",
   "metadata": {},
   "outputs": [],
   "source": [
    "# Model outputs through the 'summary_col' function\n",
    "summary_col([prec_model],\n",
    "            model_names=[\"MODEL\"],\n",
    "            stars=True,\n",
    "            info_dict = {\n",
    "                'N':lambda x: \"{0:d}\".format(int(x.nobs)),\n",
    "                'Log-lik':lambda x: \"{:.2f}\".format(x.llf)\n",
    "        })"
   ]
  },
  {
   "cell_type": "code",
   "execution_count": null,
   "id": "c30991fb-a6fd-4f9f-b84d-aa428869c833",
   "metadata": {},
   "outputs": [],
   "source": [
    "# Making predictions for the 'prec_model'.\n",
    "prec_model.predict(pd.DataFrame({'Avarage_Temperature':[12.15],\n",
    "                                'Global_Radiation':[0.1],\n",
    "                                'Avarage_Atmospheric_Pressure':[929.3],\n",
    "                                'Avarage_Dew_Temperature':[12.1],\n",
    "                                'Avarage_Relative_Humidity':[100.0],\n",
    "                                'Avarage_Wind_Speed':[2.7]}))"
   ]
  },
  {
   "cell_type": "code",
   "execution_count": null,
   "id": "b603649d-55c8-44cb-9c70-ef77a36ad2ef",
   "metadata": {},
   "outputs": [],
   "source": [
    "# Construction of a confusion matrix\n",
    "\n",
    "# Adding predicted probability values ​​to the database\n",
    "aug_df_pd['phat'] = prec_model.predict()\n",
    "\n",
    "# Viewing the database with the 'phat' variable\n",
    "aug_df_pd.head()"
   ]
  },
  {
   "cell_type": "code",
   "execution_count": null,
   "id": "4be3196c-761c-4b19-bf0d-f58f0fafd319",
   "metadata": {},
   "outputs": [],
   "source": [
    "# Construction of function to define the confusion matrix\n",
    "from sklearn.metrics import confusion_matrix, accuracy_score,\\\n",
    "    ConfusionMatrixDisplay, recall_score\n",
    "\n",
    "def matriz_confusao(predicts, observed, cutoff):\n",
    "    \n",
    "    values = predicts.values\n",
    "    \n",
    "    binary_prediction = []\n",
    "        \n",
    "    for item in values:\n",
    "        if item < cutoff:\n",
    "            binary_prediction.append(0)\n",
    "        else:\n",
    "            binary_prediction.append(1)\n",
    "           \n",
    "    cm = confusion_matrix(binary_prediction, observed)\n",
    "    disp = ConfusionMatrixDisplay(confusion_matrix=cm)\n",
    "    disp.plot()\n",
    "    plt.xlabel('True')\n",
    "    plt.ylabel('Classified')\n",
    "    plt.gca().invert_xaxis()\n",
    "    plt.gca().invert_yaxis()\n",
    "    plt.show()\n",
    "        \n",
    "    sensitivity = recall_score(observed, binary_prediction, pos_label=1)\n",
    "    specificity = recall_score(observed, binary_prediction, pos_label=0)\n",
    "    accuracy = accuracy_score(observed, binary_prediction)\n",
    "\n",
    "    # Visualizing the main indicators of this confusion matrix\n",
    "    indicators = pd.DataFrame({'Sensitivity':[sensitivity],\n",
    "                                'Specificity':[specificity],\n",
    "                                'Accuracy':[accuracy]})\n",
    "    return indicators"
   ]
  },
  {
   "cell_type": "code",
   "execution_count": null,
   "id": "584063c5-3854-49cb-b2a0-9435c5276292",
   "metadata": {},
   "outputs": [],
   "source": [
    "# Confusion matrices proper\n",
    "\n",
    "# Confusion matrix for cutoff = 0.5\n",
    "matriz_confusao(observed=aug_df_pd['Precipitation'],\n",
    "                predicts=aug_df_pd['phat'], \n",
    "                cutoff=0.5)\n",
    "\n",
    "# Confusion matrix for cutoff = 0.3\n",
    "matriz_confusao(observed=aug_df_pd['Precipitation'],\n",
    "                predicts=aug_df_pd['phat'], \n",
    "                cutoff=0.3)\n",
    "\n",
    "# Confusion matrix for cutoff = 0.7\n",
    "matriz_confusao(observed=aug_df_pd['Precipitation'],\n",
    "                predicts=aug_df_pd['phat'], \n",
    "                cutoff=0.3)"
   ]
  },
  {
   "cell_type": "code",
   "execution_count": null,
   "id": "25cd6b5d-a6e9-4098-8a79-d27ae1129a1c",
   "metadata": {},
   "outputs": [],
   "source": [
    "# Construction of the ROC curve\n",
    "from sklearn.metrics import roc_curve, auc\n",
    "\n",
    "# 'roc_curve' function from sklearn's 'metrics' package\n",
    "fpr, tpr, thresholds =roc_curve(aug_df_pd['Precipitation'],aug_df_pd['phat'])\n",
    "roc_auc = auc(fpr, tpr)\n",
    "\n",
    "# Calculation of the GINI coefficient\n",
    "gini = (roc_auc - 0.5)/(0.5)\n",
    "\n",
    "# Plotting the ROC curve\n",
    "plt.figure(figsize=(10,10))\n",
    "plt.plot(fpr,tpr, '-o', color='navy')\n",
    "plt.plot(fpr,fpr, color='gray')\n",
    "plt.title('Área abaixo da curva: %g' % roc_auc.round(4) +\n",
    "          ' | Coeficiente de GINI: %g' % gini.round(4), fontsize=17)\n",
    "plt.xlabel('1 - Especificidade', fontsize=15)\n",
    "plt.ylabel('Sensitividade', fontsize=15)\n",
    "plt.show()"
   ]
  },
  {
   "cell_type": "code",
   "execution_count": null,
   "id": "a329b4f3-a65c-4192-8bc3-20b4a8a8a04b",
   "metadata": {},
   "outputs": [],
   "source": [
    "# Construction of the sigmoid\n",
    "# Probability of event depending on the variable 'Avarage_Relative_Humidity', for example\n",
    "\n",
    "plt.figure(figsize=(15,10))\n",
    "sns.regplot(x=aug_df_pd['Avarage_Relative_Humidity'], y=aug_df_pd['Precipitation'],\n",
    "            data=aug_df_pd, logistic=True, ci=None, color='navy',\n",
    "            marker='o', scatter_kws={'color':'navy', 'alpha':0.5, 's':170})\n",
    "plt.axhline(y = 0.5, color = 'grey', linestyle = ':')\n",
    "plt.xlabel('Avarage Relative Humidity', fontsize=17)\n",
    "plt.ylabel('Precipitation Probability', fontsize=17)\n",
    "plt.show"
   ]
  }
 ],
 "metadata": {
  "kernelspec": {
   "display_name": "Python 3 (Spyder)",
   "language": "python3",
   "name": "python3"
  },
  "language_info": {
   "codemirror_mode": {
    "name": "ipython",
    "version": 3
   },
   "file_extension": ".py",
   "mimetype": "text/x-python",
   "name": "python",
   "nbconvert_exporter": "python",
   "pygments_lexer": "ipython3",
   "version": "3.11.4"
  }
 },
 "nbformat": 4,
 "nbformat_minor": 5
}
