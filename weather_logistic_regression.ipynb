{
 "cells": [
  {
   "cell_type": "code",
   "execution_count": 1,
   "id": "c9cd89df-a6df-4a2c-a7b3-b7438cc18387",
   "metadata": {},
   "outputs": [],
   "source": [
    "# Import Libraries\n",
    "from pyspark.sql import SparkSession\n",
    "from pyspark.sql.functions import *\n",
    "import pandas as pd\n",
    "import matplotlib.pyplot as plt"
   ]
  },
  {
   "cell_type": "code",
   "execution_count": 2,
   "id": "c1d580b7-dd9c-47b8-bc1a-071964b38b33",
   "metadata": {},
   "outputs": [],
   "source": [
    "# Create a Spark Session\n",
    "spark = SparkSession.builder.appName(\"LOGISTIC\").getOrCreate()"
   ]
  },
  {
   "cell_type": "code",
   "execution_count": 3,
   "id": "1d9d28d1-1ccc-4c62-8600-0d3821a28161",
   "metadata": {},
   "outputs": [],
   "source": [
    "# Read the CSV file into a Pandas DataFrame\n",
    "df = pd.read_csv('weather_august.csv')\n",
    "# Create a Pandas Dataframe\n",
    "aug_df = spark.createDataFrame(df)\n",
    "# Convert the PySpark DataFrame to a Pandas DataFrame\n",
    "aug_df_pd = aug_df.toPandas()"
   ]
  },
  {
   "cell_type": "code",
   "execution_count": 4,
   "id": "ab5e7ec7-5227-4209-b73e-bfb1537f0f02",
   "metadata": {},
   "outputs": [
    {
     "data": {
      "text/html": [
       "<div>\n",
       "<style scoped>\n",
       "    .dataframe tbody tr th:only-of-type {\n",
       "        vertical-align: middle;\n",
       "    }\n",
       "\n",
       "    .dataframe tbody tr th {\n",
       "        vertical-align: top;\n",
       "    }\n",
       "\n",
       "    .dataframe thead th {\n",
       "        text-align: right;\n",
       "    }\n",
       "</style>\n",
       "<table border=\"1\" class=\"dataframe\">\n",
       "  <thead>\n",
       "    <tr style=\"text-align: right;\">\n",
       "      <th></th>\n",
       "      <th>Precipitation</th>\n",
       "      <th>Avarage_Atmospheric_Pressure</th>\n",
       "      <th>Avarage_Temperature</th>\n",
       "      <th>Avarage_Dew_Temperature</th>\n",
       "      <th>Avarage_Relative_Humidity</th>\n",
       "      <th>Avarage_Wind_Speed</th>\n",
       "    </tr>\n",
       "  </thead>\n",
       "  <tbody>\n",
       "    <tr>\n",
       "      <th>0</th>\n",
       "      <td>0</td>\n",
       "      <td>930.45</td>\n",
       "      <td>12.5</td>\n",
       "      <td>12.45</td>\n",
       "      <td>100.0</td>\n",
       "      <td>2.80</td>\n",
       "    </tr>\n",
       "    <tr>\n",
       "      <th>1</th>\n",
       "      <td>0</td>\n",
       "      <td>930.70</td>\n",
       "      <td>12.6</td>\n",
       "      <td>12.60</td>\n",
       "      <td>100.0</td>\n",
       "      <td>2.25</td>\n",
       "    </tr>\n",
       "    <tr>\n",
       "      <th>2</th>\n",
       "      <td>0</td>\n",
       "      <td>930.85</td>\n",
       "      <td>12.2</td>\n",
       "      <td>12.20</td>\n",
       "      <td>100.0</td>\n",
       "      <td>1.40</td>\n",
       "    </tr>\n",
       "    <tr>\n",
       "      <th>3</th>\n",
       "      <td>0</td>\n",
       "      <td>931.05</td>\n",
       "      <td>12.0</td>\n",
       "      <td>12.00</td>\n",
       "      <td>100.0</td>\n",
       "      <td>1.25</td>\n",
       "    </tr>\n",
       "    <tr>\n",
       "      <th>4</th>\n",
       "      <td>0</td>\n",
       "      <td>930.90</td>\n",
       "      <td>11.8</td>\n",
       "      <td>11.80</td>\n",
       "      <td>100.0</td>\n",
       "      <td>1.25</td>\n",
       "    </tr>\n",
       "  </tbody>\n",
       "</table>\n",
       "</div>"
      ],
      "text/plain": [
       "   Precipitation  ...  Avarage_Wind_Speed\n",
       "0              0  ...                2.80\n",
       "1              0  ...                2.25\n",
       "2              0  ...                1.40\n",
       "3              0  ...                1.25\n",
       "4              0  ...                1.25\n",
       "\n",
       "[5 rows x 6 columns]"
      ]
     },
     "execution_count": 4,
     "metadata": {},
     "output_type": "execute_result"
    }
   ],
   "source": [
    "# Transform 'Precipitation' column into qualitative variable\n",
    "aug_df_pd['Precipitation'] = df['Precipitation'].apply(lambda x: 1 if x > 0 else 0)\n",
    "\n",
    "# Show the Dataframe\n",
    "aug_df_pd.head()"
   ]
  },
  {
   "cell_type": "code",
   "execution_count": 5,
   "id": "e706f6e8-4265-4d60-a937-3789f5d4c98d",
   "metadata": {},
   "outputs": [
    {
     "data": {
      "text/plain": [
       "0    662\n",
       "1     82\n",
       "Name: Precipitation, dtype: int64"
      ]
     },
     "execution_count": 5,
     "metadata": {},
     "output_type": "execute_result"
    }
   ],
   "source": [
    "# Table of absolute frequencies of the 'Precipitation' variable\n",
    "\n",
    "aug_df_pd['Precipitation'].value_counts()"
   ]
  },
  {
   "cell_type": "code",
   "execution_count": 6,
   "id": "3219e353-9d27-4ff0-ace0-45f8acedbcad",
   "metadata": {},
   "outputs": [],
   "source": [
    "import seaborn as sns \n",
    "import statsmodels.api as sm \n",
    "import numpy as np \n",
    "from scipy import stats\n",
    "from statsmodels.iolib.summary2 import summary_col \n",
    "import statsmodels.formula.api as smf\n",
    "\n",
    "import warnings\n",
    "warnings.filterwarnings('ignore')"
   ]
  },
  {
   "cell_type": "code",
   "execution_count": 7,
   "id": "87ec7185-e26f-4641-984b-e5acec5d57ff",
   "metadata": {},
   "outputs": [
    {
     "data": {
      "text/html": [
       "<table class=\"simpletable\">\n",
       "<caption>Generalized Linear Model Regression Results</caption>\n",
       "<tr>\n",
       "  <th>Dep. Variable:</th>     <td>Precipitation</td>  <th>  No. Observations:  </th>  <td>   744</td> \n",
       "</tr>\n",
       "<tr>\n",
       "  <th>Model:</th>                  <td>GLM</td>       <th>  Df Residuals:      </th>  <td>   738</td> \n",
       "</tr>\n",
       "<tr>\n",
       "  <th>Model Family:</th>        <td>Binomial</td>     <th>  Df Model:          </th>  <td>     5</td> \n",
       "</tr>\n",
       "<tr>\n",
       "  <th>Link Function:</th>         <td>Logit</td>      <th>  Scale:             </th> <td>  1.0000</td>\n",
       "</tr>\n",
       "<tr>\n",
       "  <th>Method:</th>                <td>IRLS</td>       <th>  Log-Likelihood:    </th> <td> -201.17</td>\n",
       "</tr>\n",
       "<tr>\n",
       "  <th>Date:</th>            <td>Sat, 23 Sep 2023</td> <th>  Deviance:          </th> <td>  402.34</td>\n",
       "</tr>\n",
       "<tr>\n",
       "  <th>Time:</th>                <td>14:44:07</td>     <th>  Pearson chi2:      </th>  <td>  646.</td> \n",
       "</tr>\n",
       "<tr>\n",
       "  <th>No. Iterations:</th>         <td>10</td>        <th>  Pseudo R-squ. (CS):</th>  <td>0.1420</td> \n",
       "</tr>\n",
       "<tr>\n",
       "  <th>Covariance Type:</th>     <td>nonrobust</td>    <th>                     </th>     <td> </td>   \n",
       "</tr>\n",
       "</table>\n",
       "<table class=\"simpletable\">\n",
       "<tr>\n",
       "                <td></td>                  <th>coef</th>     <th>std err</th>      <th>z</th>      <th>P>|z|</th>  <th>[0.025</th>    <th>0.975]</th>  \n",
       "</tr>\n",
       "<tr>\n",
       "  <th>Intercept</th>                    <td>  115.8388</td> <td>   46.875</td> <td>    2.471</td> <td> 0.013</td> <td>   23.965</td> <td>  207.712</td>\n",
       "</tr>\n",
       "<tr>\n",
       "  <th>Avarage_Temperature</th>          <td>    0.3743</td> <td>    0.572</td> <td>    0.654</td> <td> 0.513</td> <td>   -0.747</td> <td>    1.496</td>\n",
       "</tr>\n",
       "<tr>\n",
       "  <th>Avarage_Atmospheric_Pressure</th> <td>   -0.1484</td> <td>    0.047</td> <td>   -3.184</td> <td> 0.001</td> <td>   -0.240</td> <td>   -0.057</td>\n",
       "</tr>\n",
       "<tr>\n",
       "  <th>Avarage_Dew_Temperature</th>      <td>   -0.5511</td> <td>    0.569</td> <td>   -0.968</td> <td> 0.333</td> <td>   -1.666</td> <td>    0.564</td>\n",
       "</tr>\n",
       "<tr>\n",
       "  <th>Avarage_Relative_Humidity</th>    <td>    0.2256</td> <td>    0.112</td> <td>    2.020</td> <td> 0.043</td> <td>    0.007</td> <td>    0.444</td>\n",
       "</tr>\n",
       "<tr>\n",
       "  <th>Avarage_Wind_Speed</th>           <td>    0.2728</td> <td>    0.075</td> <td>    3.656</td> <td> 0.000</td> <td>    0.127</td> <td>    0.419</td>\n",
       "</tr>\n",
       "</table>"
      ],
      "text/latex": [
       "\\begin{center}\n",
       "\\begin{tabular}{lclc}\n",
       "\\toprule\n",
       "\\textbf{Dep. Variable:}                 &  Precipitation   & \\textbf{  No. Observations:  } &      744    \\\\\n",
       "\\textbf{Model:}                         &       GLM        & \\textbf{  Df Residuals:      } &      738    \\\\\n",
       "\\textbf{Model Family:}                  &     Binomial     & \\textbf{  Df Model:          } &        5    \\\\\n",
       "\\textbf{Link Function:}                 &      Logit       & \\textbf{  Scale:             } &    1.0000   \\\\\n",
       "\\textbf{Method:}                        &       IRLS       & \\textbf{  Log-Likelihood:    } &   -201.17   \\\\\n",
       "\\textbf{Date:}                          & Sat, 23 Sep 2023 & \\textbf{  Deviance:          } &    402.34   \\\\\n",
       "\\textbf{Time:}                          &     14:44:07     & \\textbf{  Pearson chi2:      } &     646.    \\\\\n",
       "\\textbf{No. Iterations:}                &        10        & \\textbf{  Pseudo R-squ. (CS):} &   0.1420    \\\\\n",
       "\\textbf{Covariance Type:}               &    nonrobust     & \\textbf{                     } &             \\\\\n",
       "\\bottomrule\n",
       "\\end{tabular}\n",
       "\\begin{tabular}{lcccccc}\n",
       "                                        & \\textbf{coef} & \\textbf{std err} & \\textbf{z} & \\textbf{P$> |$z$|$} & \\textbf{[0.025} & \\textbf{0.975]}  \\\\\n",
       "\\midrule\n",
       "\\textbf{Intercept}                      &     115.8388  &       46.875     &     2.471  &         0.013        &       23.965    &      207.712     \\\\\n",
       "\\textbf{Avarage\\_Temperature}           &       0.3743  &        0.572     &     0.654  &         0.513        &       -0.747    &        1.496     \\\\\n",
       "\\textbf{Avarage\\_Atmospheric\\_Pressure} &      -0.1484  &        0.047     &    -3.184  &         0.001        &       -0.240    &       -0.057     \\\\\n",
       "\\textbf{Avarage\\_Dew\\_Temperature}      &      -0.5511  &        0.569     &    -0.968  &         0.333        &       -1.666    &        0.564     \\\\\n",
       "\\textbf{Avarage\\_Relative\\_Humidity}    &       0.2256  &        0.112     &     2.020  &         0.043        &        0.007    &        0.444     \\\\\n",
       "\\textbf{Avarage\\_Wind\\_Speed}           &       0.2728  &        0.075     &     3.656  &         0.000        &        0.127    &        0.419     \\\\\n",
       "\\bottomrule\n",
       "\\end{tabular}\n",
       "%\\caption{Generalized Linear Model Regression Results}\n",
       "\\end{center}"
      ],
      "text/plain": [
       "<class 'statsmodels.iolib.summary.Summary'>\n",
       "\"\"\"\n",
       "                 Generalized Linear Model Regression Results                  \n",
       "==============================================================================\n",
       "Dep. Variable:          Precipitation   No. Observations:                  744\n",
       "Model:                            GLM   Df Residuals:                      738\n",
       "Model Family:                Binomial   Df Model:                            5\n",
       "Link Function:                  Logit   Scale:                          1.0000\n",
       "Method:                          IRLS   Log-Likelihood:                -201.17\n",
       "Date:                Sat, 23 Sep 2023   Deviance:                       402.34\n",
       "Time:                        14:44:07   Pearson chi2:                     646.\n",
       "No. Iterations:                    10   Pseudo R-squ. (CS):             0.1420\n",
       "Covariance Type:            nonrobust                                         \n",
       "================================================================================================\n",
       "                                   coef    std err          z      P>|z|      [0.025      0.975]\n",
       "------------------------------------------------------------------------------------------------\n",
       "Intercept                      115.8388     46.875      2.471      0.013      23.965     207.712\n",
       "Avarage_Temperature              0.3743      0.572      0.654      0.513      -0.747       1.496\n",
       "Avarage_Atmospheric_Pressure    -0.1484      0.047     -3.184      0.001      -0.240      -0.057\n",
       "Avarage_Dew_Temperature         -0.5511      0.569     -0.968      0.333      -1.666       0.564\n",
       "Avarage_Relative_Humidity        0.2256      0.112      2.020      0.043       0.007       0.444\n",
       "Avarage_Wind_Speed               0.2728      0.075      3.656      0.000       0.127       0.419\n",
       "================================================================================================\n",
       "\"\"\""
      ]
     },
     "execution_count": 7,
     "metadata": {},
     "output_type": "execute_result"
    }
   ],
   "source": [
    "# Estimation of a binary logistic model\n",
    "prec_model = smf.glm(formula='Precipitation ~  Avarage_Temperature +\\\n",
    "                                Avarage_Atmospheric_Pressure +\\\n",
    "                                Avarage_Dew_Temperature +\\\n",
    "                                Avarage_Relative_Humidity +\\\n",
    "                                Avarage_Wind_Speed', data=aug_df_pd,\n",
    "                         family=sm.families.Binomial()).fit()\n",
    "\n",
    "# Model parameters\n",
    "prec_model.summary()"
   ]
  },
  {
   "cell_type": "code",
   "execution_count": 8,
   "id": "f78e65d5-f977-403e-ae2e-e1030bc5d00a",
   "metadata": {},
   "outputs": [
    {
     "data": {
      "text/html": [
       "<table class=\"simpletable\">\n",
       "<tr>\n",
       "                <td></td>                  <th>MODEL</th>  \n",
       "</tr>\n",
       "<tr>\n",
       "  <th>Intercept</th>                    <td>115.8388**</td>\n",
       "</tr>\n",
       "<tr>\n",
       "  <th></th>                              <td>(46.8750)</td>\n",
       "</tr>\n",
       "<tr>\n",
       "  <th>Avarage_Temperature</th>            <td>0.3743</td>  \n",
       "</tr>\n",
       "<tr>\n",
       "  <th></th>                              <td>(0.5723)</td> \n",
       "</tr>\n",
       "<tr>\n",
       "  <th>Avarage_Atmospheric_Pressure</th> <td>-0.1484***</td>\n",
       "</tr>\n",
       "<tr>\n",
       "  <th></th>                              <td>(0.0466)</td> \n",
       "</tr>\n",
       "<tr>\n",
       "  <th>Avarage_Dew_Temperature</th>        <td>-0.5511</td> \n",
       "</tr>\n",
       "<tr>\n",
       "  <th></th>                              <td>(0.5691)</td> \n",
       "</tr>\n",
       "<tr>\n",
       "  <th>Avarage_Relative_Humidity</th>     <td>0.2256**</td> \n",
       "</tr>\n",
       "<tr>\n",
       "  <th></th>                              <td>(0.1117)</td> \n",
       "</tr>\n",
       "<tr>\n",
       "  <th>Avarage_Wind_Speed</th>            <td>0.2728***</td>\n",
       "</tr>\n",
       "<tr>\n",
       "  <th></th>                              <td>(0.0746)</td> \n",
       "</tr>\n",
       "<tr>\n",
       "  <th>N</th>                                <td>744</td>   \n",
       "</tr>\n",
       "<tr>\n",
       "  <th>Log-lik</th>                        <td>-201.17</td> \n",
       "</tr>\n",
       "</table><br/>\n",
       "Standard errors in parentheses.<br/>\n",
       "* p<.1, ** p<.05, ***p<.01"
      ],
      "text/latex": [
       "\\begin{table}\n",
       "\\caption{}\n",
       "\\label{}\n",
       "\\begin{center}\n",
       "\\begin{tabular}{ll}\n",
       "\\hline\n",
       "                               & MODEL       \\\\\n",
       "\\hline\n",
       "Intercept                      & 115.8388**  \\\\\n",
       "                               & (46.8750)   \\\\\n",
       "Avarage\\_Temperature           & 0.3743      \\\\\n",
       "                               & (0.5723)    \\\\\n",
       "Avarage\\_Atmospheric\\_Pressure & -0.1484***  \\\\\n",
       "                               & (0.0466)    \\\\\n",
       "Avarage\\_Dew\\_Temperature      & -0.5511     \\\\\n",
       "                               & (0.5691)    \\\\\n",
       "Avarage\\_Relative\\_Humidity    & 0.2256**    \\\\\n",
       "                               & (0.1117)    \\\\\n",
       "Avarage\\_Wind\\_Speed           & 0.2728***   \\\\\n",
       "                               & (0.0746)    \\\\\n",
       "N                              & 744         \\\\\n",
       "Log-lik                        & -201.17     \\\\\n",
       "\\hline\n",
       "\\end{tabular}\n",
       "\\end{center}\n",
       "\\end{table}\n",
       "\\bigskip\n",
       "Standard errors in parentheses. \\newline \n",
       "* p<.1, ** p<.05, ***p<.01"
      ],
      "text/plain": [
       "<class 'statsmodels.iolib.summary2.Summary'>\n",
       "\"\"\"\n",
       "\n",
       "=======================================\n",
       "                               MODEL   \n",
       "---------------------------------------\n",
       "Intercept                    115.8388**\n",
       "                             (46.8750) \n",
       "Avarage_Temperature          0.3743    \n",
       "                             (0.5723)  \n",
       "Avarage_Atmospheric_Pressure -0.1484***\n",
       "                             (0.0466)  \n",
       "Avarage_Dew_Temperature      -0.5511   \n",
       "                             (0.5691)  \n",
       "Avarage_Relative_Humidity    0.2256**  \n",
       "                             (0.1117)  \n",
       "Avarage_Wind_Speed           0.2728*** \n",
       "                             (0.0746)  \n",
       "N                            744       \n",
       "Log-lik                      -201.17   \n",
       "=======================================\n",
       "Standard errors in parentheses.\n",
       "* p<.1, ** p<.05, ***p<.01\n",
       "\"\"\""
      ]
     },
     "execution_count": 8,
     "metadata": {},
     "output_type": "execute_result"
    }
   ],
   "source": [
    "# Model outputs through the 'summary_col' function\n",
    "summary_col([prec_model],\n",
    "            model_names=[\"MODEL\"],\n",
    "            stars=True,\n",
    "            info_dict = {\n",
    "                'N':lambda x: \"{0:d}\".format(int(x.nobs)),\n",
    "                'Log-lik':lambda x: \"{:.2f}\".format(x.llf)\n",
    "        })"
   ]
  },
  {
   "cell_type": "code",
   "execution_count": 9,
   "id": "c30991fb-a6fd-4f9f-b84d-aa428869c833",
   "metadata": {},
   "outputs": [
    {
     "data": {
      "text/plain": [
       "0    0.29192\n",
       "dtype: float64"
      ]
     },
     "execution_count": 9,
     "metadata": {},
     "output_type": "execute_result"
    }
   ],
   "source": [
    "# Making predictions for the 'prec_model'.\n",
    "prec_model.predict(pd.DataFrame({'Avarage_Temperature':[12.15],\n",
    "                                'Avarage_Atmospheric_Pressure':[929.3],\n",
    "                                'Avarage_Dew_Temperature':[12.1],\n",
    "                                'Avarage_Relative_Humidity':[100.0],\n",
    "                                'Avarage_Wind_Speed':[2.7]}))"
   ]
  },
  {
   "cell_type": "code",
   "execution_count": 10,
   "id": "b603649d-55c8-44cb-9c70-ef77a36ad2ef",
   "metadata": {},
   "outputs": [
    {
     "data": {
      "text/html": [
       "<div>\n",
       "<style scoped>\n",
       "    .dataframe tbody tr th:only-of-type {\n",
       "        vertical-align: middle;\n",
       "    }\n",
       "\n",
       "    .dataframe tbody tr th {\n",
       "        vertical-align: top;\n",
       "    }\n",
       "\n",
       "    .dataframe thead th {\n",
       "        text-align: right;\n",
       "    }\n",
       "</style>\n",
       "<table border=\"1\" class=\"dataframe\">\n",
       "  <thead>\n",
       "    <tr style=\"text-align: right;\">\n",
       "      <th></th>\n",
       "      <th>Precipitation</th>\n",
       "      <th>Avarage_Atmospheric_Pressure</th>\n",
       "      <th>Avarage_Temperature</th>\n",
       "      <th>Avarage_Dew_Temperature</th>\n",
       "      <th>Avarage_Relative_Humidity</th>\n",
       "      <th>Avarage_Wind_Speed</th>\n",
       "      <th>phat</th>\n",
       "    </tr>\n",
       "  </thead>\n",
       "  <tbody>\n",
       "    <tr>\n",
       "      <th>0</th>\n",
       "      <td>0</td>\n",
       "      <td>930.45</td>\n",
       "      <td>12.5</td>\n",
       "      <td>12.45</td>\n",
       "      <td>100.0</td>\n",
       "      <td>2.80</td>\n",
       "      <td>0.251368</td>\n",
       "    </tr>\n",
       "    <tr>\n",
       "      <th>1</th>\n",
       "      <td>0</td>\n",
       "      <td>930.70</td>\n",
       "      <td>12.6</td>\n",
       "      <td>12.60</td>\n",
       "      <td>100.0</td>\n",
       "      <td>2.25</td>\n",
       "      <td>0.210207</td>\n",
       "    </tr>\n",
       "    <tr>\n",
       "      <th>2</th>\n",
       "      <td>0</td>\n",
       "      <td>930.85</td>\n",
       "      <td>12.2</td>\n",
       "      <td>12.20</td>\n",
       "      <td>100.0</td>\n",
       "      <td>1.40</td>\n",
       "      <td>0.181376</td>\n",
       "    </tr>\n",
       "    <tr>\n",
       "      <th>3</th>\n",
       "      <td>0</td>\n",
       "      <td>931.05</td>\n",
       "      <td>12.0</td>\n",
       "      <td>12.00</td>\n",
       "      <td>100.0</td>\n",
       "      <td>1.25</td>\n",
       "      <td>0.176203</td>\n",
       "    </tr>\n",
       "    <tr>\n",
       "      <th>4</th>\n",
       "      <td>0</td>\n",
       "      <td>930.90</td>\n",
       "      <td>11.8</td>\n",
       "      <td>11.80</td>\n",
       "      <td>100.0</td>\n",
       "      <td>1.25</td>\n",
       "      <td>0.184723</td>\n",
       "    </tr>\n",
       "  </tbody>\n",
       "</table>\n",
       "</div>"
      ],
      "text/plain": [
       "   Precipitation  Avarage_Atmospheric_Pressure  ...  Avarage_Wind_Speed      phat\n",
       "0              0                        930.45  ...                2.80  0.251368\n",
       "1              0                        930.70  ...                2.25  0.210207\n",
       "2              0                        930.85  ...                1.40  0.181376\n",
       "3              0                        931.05  ...                1.25  0.176203\n",
       "4              0                        930.90  ...                1.25  0.184723\n",
       "\n",
       "[5 rows x 7 columns]"
      ]
     },
     "execution_count": 10,
     "metadata": {},
     "output_type": "execute_result"
    }
   ],
   "source": [
    "# Construction of a confusion matrix\n",
    "\n",
    "# Adding predicted probability values ​​to the database\n",
    "aug_df_pd['phat'] = prec_model.predict()\n",
    "\n",
    "# Viewing the database with the 'phat' variable\n",
    "aug_df_pd.head()"
   ]
  },
  {
   "cell_type": "code",
   "execution_count": 11,
   "id": "4be3196c-761c-4b19-bf0d-f58f0fafd319",
   "metadata": {},
   "outputs": [],
   "source": [
    "# Construction of function to define the confusion matrix\n",
    "from sklearn.metrics import confusion_matrix, accuracy_score,\\\n",
    "    ConfusionMatrixDisplay, recall_score\n",
    "\n",
    "def matriz_confusao(predicts, observed, cutoff):\n",
    "    \n",
    "    values = predicts.values\n",
    "    \n",
    "    binary_prediction = []\n",
    "        \n",
    "    for item in values:\n",
    "        if item < cutoff:\n",
    "            binary_prediction.append(0)\n",
    "        else:\n",
    "            binary_prediction.append(1)\n",
    "           \n",
    "    cm = confusion_matrix(binary_prediction, observed)\n",
    "    disp = ConfusionMatrixDisplay(confusion_matrix=cm)\n",
    "    disp.plot()\n",
    "    plt.xlabel('True')\n",
    "    plt.ylabel('Classified')\n",
    "    plt.gca().invert_xaxis()\n",
    "    plt.gca().invert_yaxis()\n",
    "    plt.show()\n",
    "        \n",
    "    sensitivity = recall_score(observed, binary_prediction, pos_label=1)\n",
    "    specificity = recall_score(observed, binary_prediction, pos_label=0)\n",
    "    accuracy = accuracy_score(observed, binary_prediction)\n",
    "\n",
    "    # Visualizing the main indicators of this confusion matrix\n",
    "    indicators = pd.DataFrame({'Sensitivity':[sensitivity],\n",
    "                                'Specificity':[specificity],\n",
    "                                'Accuracy':[accuracy]})\n",
    "    return indicators"
   ]
  },
  {
   "cell_type": "code",
   "execution_count": 12,
   "id": "584063c5-3854-49cb-b2a0-9435c5276292",
   "metadata": {},
   "outputs": [
    {
     "data": {
      "image/png": "[encoded data removed]",
      "text/plain": [
       "<Figure size 432x288 with 2 Axes>"
      ]
     },
     "metadata": {},
     "output_type": "display_data"
    },
    {
     "data": {
      "image/png": "[encoded data removed]",
      "text/plain": [
       "<Figure size 432x288 with 2 Axes>"
      ]
     },
     "metadata": {},
     "output_type": "display_data"
    },
    {
     "data": {
      "image/png": "[encoded data removed]",
      "text/plain": [
       "<Figure size 432x288 with 2 Axes>"
      ]
     },
     "metadata": {},
     "output_type": "display_data"
    },
    {
     "data": {
      "text/html": [
       "<div>\n",
       "<style scoped>\n",
       "    .dataframe tbody tr th:only-of-type {\n",
       "        vertical-align: middle;\n",
       "    }\n",
       "\n",
       "    .dataframe tbody tr th {\n",
       "        vertical-align: top;\n",
       "    }\n",
       "\n",
       "    .dataframe thead th {\n",
       "        text-align: right;\n",
       "    }\n",
       "</style>\n",
       "<table border=\"1\" class=\"dataframe\">\n",
       "  <thead>\n",
       "    <tr style=\"text-align: right;\">\n",
       "      <th></th>\n",
       "      <th>Sensitivity</th>\n",
       "      <th>Specificity</th>\n",
       "      <th>Accuracy</th>\n",
       "    </tr>\n",
       "  </thead>\n",
       "  <tbody>\n",
       "    <tr>\n",
       "      <th>0</th>\n",
       "      <td>0.329268</td>\n",
       "      <td>0.942598</td>\n",
       "      <td>0.875</td>\n",
       "    </tr>\n",
       "  </tbody>\n",
       "</table>\n",
       "</div>"
      ],
      "text/plain": [
       "   Sensitivity  Specificity  Accuracy\n",
       "0     0.329268     0.942598     0.875"
      ]
     },
     "execution_count": 12,
     "metadata": {},
     "output_type": "execute_result"
    }
   ],
   "source": [
    "# Confusion matrices proper\n",
    "\n",
    "# Confusion matrix for cutoff = 0.5\n",
    "matriz_confusao(observed=aug_df_pd['Precipitation'],\n",
    "                predicts=aug_df_pd['phat'], \n",
    "                cutoff=0.5)\n",
    "\n",
    "# Confusion matrix for cutoff = 0.3\n",
    "matriz_confusao(observed=aug_df_pd['Precipitation'],\n",
    "                predicts=aug_df_pd['phat'], \n",
    "                cutoff=0.3)\n",
    "\n",
    "# Confusion matrix for cutoff = 0.7\n",
    "matriz_confusao(observed=aug_df_pd['Precipitation'],\n",
    "                predicts=aug_df_pd['phat'], \n",
    "                cutoff=0.3)"
   ]
  },
  {
   "cell_type": "code",
   "execution_count": 13,
   "id": "25cd6b5d-a6e9-4098-8a79-d27ae1129a1c",
   "metadata": {},
   "outputs": [
    {
     "data": {
      "image/png": "[encoded data removed]",
      "text/plain": [
       "<Figure size 720x720 with 1 Axes>"
      ]
     },
     "metadata": {},
     "output_type": "display_data"
    }
   ],
   "source": [
    "# Construction of the ROC curve\n",
    "from sklearn.metrics import roc_curve, auc\n",
    "\n",
    "# 'roc_curve' function from sklearn's 'metrics' package\n",
    "fpr, tpr, thresholds =roc_curve(aug_df_pd['Precipitation'],aug_df_pd['phat'])\n",
    "roc_auc = auc(fpr, tpr)\n",
    "\n",
    "# Calculation of the GINI coefficient\n",
    "gini = (roc_auc - 0.5)/(0.5)\n",
    "\n",
    "# Plotting the ROC curve\n",
    "plt.figure(figsize=(10,10))\n",
    "plt.plot(fpr,tpr, '-o', color='navy')\n",
    "plt.plot(fpr,fpr, color='gray')\n",
    "plt.title('Área abaixo da curva: %g' % roc_auc.round(4) +\n",
    "          ' | Coeficiente de GINI: %g' % gini.round(4), fontsize=17)\n",
    "plt.xlabel('1 - Especificidade', fontsize=15)\n",
    "plt.ylabel('Sensitividade', fontsize=15)\n",
    "plt.show()"
   ]
  },
  {
   "cell_type": "code",
   "execution_count": 14,
   "id": "a329b4f3-a65c-4192-8bc3-20b4a8a8a04b",
   "metadata": {},
   "outputs": [
    {
     "data": {
      "text/plain": [
       "<function matplotlib.pyplot.show(close=None, block=None)>"
      ]
     },
     "execution_count": 14,
     "metadata": {},
     "output_type": "execute_result"
    },
    {
     "data": {
      "image/png": "[encoded data removed]",
      "text/plain": [
       "<Figure size 1080x720 with 1 Axes>"
      ]
     },
     "metadata": {},
     "output_type": "display_data"
    }
   ],
   "source": [
    "# Construction of the sigmoid\n",
    "# Probability of event depending on the variable 'Avarage_Relative_Humidity', for example\n",
    "\n",
    "plt.figure(figsize=(15,10))\n",
    "sns.regplot(x=aug_df_pd['Avarage_Relative_Humidity'], y=aug_df_pd['Precipitation'],\n",
    "            data=aug_df_pd, logistic=True, ci=None, color='navy',\n",
    "            marker='o', scatter_kws={'color':'navy', 'alpha':0.5, 's':170})\n",
    "plt.axhline(y = 0.5, color = 'grey', linestyle = ':')\n",
    "plt.xlabel('Avarage Relative Humidity', fontsize=17)\n",
    "plt.ylabel('Precipitation Probability', fontsize=17)\n",
    "plt.show"
   ]
  }
 ],
 "metadata": {
  "kernelspec": {
   "display_name": "Python 3 (Spyder)",
   "language": "python3",
   "name": "python3"
  },
  "language_info": {
   "codemirror_mode": {
    "name": "ipython",
    "version": 3
   },
   "file_extension": ".py",
   "mimetype": "text/x-python",
   "name": "python",
   "nbconvert_exporter": "python",
   "pygments_lexer": "ipython3",
   "version": "3.11.4"
  }
 },
 "nbformat": 4,
 "nbformat_minor": 5
}
