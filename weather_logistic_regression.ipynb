{
 "cells": [
  {
   "cell_type": "code",
   "execution_count": 1,
   "id": "c9cd89df-a6df-4a2c-a7b3-b7438cc18387",
   "metadata": {},
   "outputs": [],
   "source": [
    "# Import Libraries\n",
    "from pyspark.sql import SparkSession\n",
    "from pyspark.sql.functions import *\n",
    "import pandas as pd\n",
    "import matplotlib.pyplot as plt"
   ]
  },
  {
   "cell_type": "code",
   "execution_count": 2,
   "id": "c1d580b7-dd9c-47b8-bc1a-071964b38b33",
   "metadata": {},
   "outputs": [],
   "source": [
    "# Create a Spark Session\n",
    "spark = SparkSession.builder.appName(\"LOGISTIC\").getOrCreate()"
   ]
  },
  {
   "cell_type": "code",
   "execution_count": 3,
   "id": "1d9d28d1-1ccc-4c62-8600-0d3821a28161",
   "metadata": {},
   "outputs": [],
   "source": [
    "# Read the CSV file into a Pandas DataFrame\n",
    "df = pd.read_csv('weather_august.csv')\n",
    "# Create a Pandas Dataframe\n",
    "aug_df = spark.createDataFrame(df)\n",
    "# Convert the PySpark DataFrame to a Pandas DataFrame\n",
    "aug_df_pd = aug_df.toPandas()"
   ]
  },
  {
   "cell_type": "code",
   "execution_count": 4,
   "id": "ab5e7ec7-5227-4209-b73e-bfb1537f0f02",
   "metadata": {},
   "outputs": [
    {
     "data": {
      "text/html": [
       "<div>\n",
       "<style scoped>\n",
       "    .dataframe tbody tr th:only-of-type {\n",
       "        vertical-align: middle;\n",
       "    }\n",
       "\n",
       "    .dataframe tbody tr th {\n",
       "        vertical-align: top;\n",
       "    }\n",
       "\n",
       "    .dataframe thead th {\n",
       "        text-align: right;\n",
       "    }\n",
       "</style>\n",
       "<table border=\"1\" class=\"dataframe\">\n",
       "  <thead>\n",
       "    <tr style=\"text-align: right;\">\n",
       "      <th></th>\n",
       "      <th>Precipitation</th>\n",
       "      <th>Global_Radiation</th>\n",
       "      <th>Avarage_Atmospheric_Pressure</th>\n",
       "      <th>Avarage_Temperature</th>\n",
       "      <th>Avarage_Dew_Temperature</th>\n",
       "      <th>Avarage_Relative_Humidity</th>\n",
       "      <th>Avarage_Wind_Speed</th>\n",
       "    </tr>\n",
       "  </thead>\n",
       "  <tbody>\n",
       "    <tr>\n",
       "      <th>0</th>\n",
       "      <td>0</td>\n",
       "      <td>0.1</td>\n",
       "      <td>929.30</td>\n",
       "      <td>12.15</td>\n",
       "      <td>12.10</td>\n",
       "      <td>100.0</td>\n",
       "      <td>2.70</td>\n",
       "    </tr>\n",
       "    <tr>\n",
       "      <th>1</th>\n",
       "      <td>0</td>\n",
       "      <td>5.0</td>\n",
       "      <td>929.75</td>\n",
       "      <td>12.35</td>\n",
       "      <td>12.35</td>\n",
       "      <td>100.0</td>\n",
       "      <td>2.45</td>\n",
       "    </tr>\n",
       "    <tr>\n",
       "      <th>2</th>\n",
       "      <td>0</td>\n",
       "      <td>135.8</td>\n",
       "      <td>930.20</td>\n",
       "      <td>12.55</td>\n",
       "      <td>12.55</td>\n",
       "      <td>100.0</td>\n",
       "      <td>2.50</td>\n",
       "    </tr>\n",
       "    <tr>\n",
       "      <th>3</th>\n",
       "      <td>0</td>\n",
       "      <td>488.0</td>\n",
       "      <td>930.40</td>\n",
       "      <td>13.35</td>\n",
       "      <td>13.35</td>\n",
       "      <td>100.0</td>\n",
       "      <td>2.90</td>\n",
       "    </tr>\n",
       "    <tr>\n",
       "      <th>4</th>\n",
       "      <td>0</td>\n",
       "      <td>1631.1</td>\n",
       "      <td>930.60</td>\n",
       "      <td>15.50</td>\n",
       "      <td>13.65</td>\n",
       "      <td>89.5</td>\n",
       "      <td>3.05</td>\n",
       "    </tr>\n",
       "  </tbody>\n",
       "</table>\n",
       "</div>"
      ],
      "text/plain": [
       "   Precipitation  ...  Avarage_Wind_Speed\n",
       "0              0  ...                2.70\n",
       "1              0  ...                2.45\n",
       "2              0  ...                2.50\n",
       "3              0  ...                2.90\n",
       "4              0  ...                3.05\n",
       "\n",
       "[5 rows x 7 columns]"
      ]
     },
     "execution_count": 4,
     "metadata": {},
     "output_type": "execute_result"
    }
   ],
   "source": [
    "# Transform 'Precipitation' column into qualitative variable\n",
    "aug_df_pd['Precipitation'] = df['Precipitation'].apply(lambda x: 1 if x > 0 else 0)\n",
    "\n",
    "# Show the Dataframe\n",
    "aug_df_pd.head()"
   ]
  },
  {
   "cell_type": "code",
   "execution_count": 5,
   "id": "e706f6e8-4265-4d60-a937-3789f5d4c98d",
   "metadata": {},
   "outputs": [
    {
     "data": {
      "text/plain": [
       "0    349\n",
       "1     26\n",
       "Name: Precipitation, dtype: int64"
      ]
     },
     "execution_count": 5,
     "metadata": {},
     "output_type": "execute_result"
    }
   ],
   "source": [
    "# Table of absolute frequencies of the 'Precipitation' variable\n",
    "\n",
    "aug_df_pd['Precipitation'].value_counts()"
   ]
  },
  {
   "cell_type": "code",
   "execution_count": 6,
   "id": "3219e353-9d27-4ff0-ace0-45f8acedbcad",
   "metadata": {},
   "outputs": [],
   "source": [
    "import seaborn as sns \n",
    "import statsmodels.api as sm \n",
    "import numpy as np \n",
    "from scipy import stats\n",
    "from statsmodels.iolib.summary2 import summary_col \n",
    "import statsmodels.formula.api as smf\n",
    "\n",
    "import warnings\n",
    "warnings.filterwarnings('ignore')"
   ]
  },
  {
   "cell_type": "code",
   "execution_count": 7,
   "id": "87ec7185-e26f-4641-984b-e5acec5d57ff",
   "metadata": {},
   "outputs": [
    {
     "data": {
      "text/html": [
       "<table class=\"simpletable\">\n",
       "<caption>Generalized Linear Model Regression Results</caption>\n",
       "<tr>\n",
       "  <th>Dep. Variable:</th>     <td>Precipitation</td>  <th>  No. Observations:  </th>  <td>   375</td> \n",
       "</tr>\n",
       "<tr>\n",
       "  <th>Model:</th>                  <td>GLM</td>       <th>  Df Residuals:      </th>  <td>   368</td> \n",
       "</tr>\n",
       "<tr>\n",
       "  <th>Model Family:</th>        <td>Binomial</td>     <th>  Df Model:          </th>  <td>     6</td> \n",
       "</tr>\n",
       "<tr>\n",
       "  <th>Link Function:</th>         <td>Logit</td>      <th>  Scale:             </th> <td>  1.0000</td>\n",
       "</tr>\n",
       "<tr>\n",
       "  <th>Method:</th>                <td>IRLS</td>       <th>  Log-Likelihood:    </th> <td> -67.886</td>\n",
       "</tr>\n",
       "<tr>\n",
       "  <th>Date:</th>            <td>Fri, 22 Sep 2023</td> <th>  Deviance:          </th> <td>  135.77</td>\n",
       "</tr>\n",
       "<tr>\n",
       "  <th>Time:</th>                <td>13:46:19</td>     <th>  Pearson chi2:      </th>  <td>  327.</td> \n",
       "</tr>\n",
       "<tr>\n",
       "  <th>No. Iterations:</th>         <td>10</td>        <th>  Pseudo R-squ. (CS):</th>  <td>0.1322</td> \n",
       "</tr>\n",
       "<tr>\n",
       "  <th>Covariance Type:</th>     <td>nonrobust</td>    <th>                     </th>     <td> </td>   \n",
       "</tr>\n",
       "</table>\n",
       "<table class=\"simpletable\">\n",
       "<tr>\n",
       "                <td></td>                  <th>coef</th>     <th>std err</th>      <th>z</th>      <th>P>|z|</th>  <th>[0.025</th>    <th>0.975]</th>  \n",
       "</tr>\n",
       "<tr>\n",
       "  <th>Intercept</th>                    <td>  114.8962</td> <td>   88.992</td> <td>    1.291</td> <td> 0.197</td> <td>  -59.525</td> <td>  289.318</td>\n",
       "</tr>\n",
       "<tr>\n",
       "  <th>Avarage_Temperature</th>          <td>   -0.2870</td> <td>    1.010</td> <td>   -0.284</td> <td> 0.776</td> <td>   -2.266</td> <td>    1.692</td>\n",
       "</tr>\n",
       "<tr>\n",
       "  <th>Global_Radiation</th>             <td>    0.0006</td> <td>    0.001</td> <td>    1.025</td> <td> 0.306</td> <td>   -0.001</td> <td>    0.002</td>\n",
       "</tr>\n",
       "<tr>\n",
       "  <th>Avarage_Atmospheric_Pressure</th> <td>   -0.1333</td> <td>    0.087</td> <td>   -1.533</td> <td> 0.125</td> <td>   -0.304</td> <td>    0.037</td>\n",
       "</tr>\n",
       "<tr>\n",
       "  <th>Avarage_Dew_Temperature</th>      <td>   -0.0241</td> <td>    0.997</td> <td>   -0.024</td> <td> 0.981</td> <td>   -1.977</td> <td>    1.929</td>\n",
       "</tr>\n",
       "<tr>\n",
       "  <th>Avarage_Relative_Humidity</th>    <td>    0.1059</td> <td>    0.197</td> <td>    0.539</td> <td> 0.590</td> <td>   -0.279</td> <td>    0.491</td>\n",
       "</tr>\n",
       "<tr>\n",
       "  <th>Avarage_Wind_Speed</th>           <td>    0.2807</td> <td>    0.137</td> <td>    2.042</td> <td> 0.041</td> <td>    0.011</td> <td>    0.550</td>\n",
       "</tr>\n",
       "</table>"
      ],
      "text/latex": [
       "\\begin{center}\n",
       "\\begin{tabular}{lclc}\n",
       "\\toprule\n",
       "\\textbf{Dep. Variable:}                 &  Precipitation   & \\textbf{  No. Observations:  } &      375    \\\\\n",
       "\\textbf{Model:}                         &       GLM        & \\textbf{  Df Residuals:      } &      368    \\\\\n",
       "\\textbf{Model Family:}                  &     Binomial     & \\textbf{  Df Model:          } &        6    \\\\\n",
       "\\textbf{Link Function:}                 &      Logit       & \\textbf{  Scale:             } &    1.0000   \\\\\n",
       "\\textbf{Method:}                        &       IRLS       & \\textbf{  Log-Likelihood:    } &   -67.886   \\\\\n",
       "\\textbf{Date:}                          & Fri, 22 Sep 2023 & \\textbf{  Deviance:          } &    135.77   \\\\\n",
       "\\textbf{Time:}                          &     13:46:19     & \\textbf{  Pearson chi2:      } &     327.    \\\\\n",
       "\\textbf{No. Iterations:}                &        10        & \\textbf{  Pseudo R-squ. (CS):} &   0.1322    \\\\\n",
       "\\textbf{Covariance Type:}               &    nonrobust     & \\textbf{                     } &             \\\\\n",
       "\\bottomrule\n",
       "\\end{tabular}\n",
       "\\begin{tabular}{lcccccc}\n",
       "                                        & \\textbf{coef} & \\textbf{std err} & \\textbf{z} & \\textbf{P$> |$z$|$} & \\textbf{[0.025} & \\textbf{0.975]}  \\\\\n",
       "\\midrule\n",
       "\\textbf{Intercept}                      &     114.8962  &       88.992     &     1.291  &         0.197        &      -59.525    &      289.318     \\\\\n",
       "\\textbf{Avarage\\_Temperature}           &      -0.2870  &        1.010     &    -0.284  &         0.776        &       -2.266    &        1.692     \\\\\n",
       "\\textbf{Global\\_Radiation}              &       0.0006  &        0.001     &     1.025  &         0.306        &       -0.001    &        0.002     \\\\\n",
       "\\textbf{Avarage\\_Atmospheric\\_Pressure} &      -0.1333  &        0.087     &    -1.533  &         0.125        &       -0.304    &        0.037     \\\\\n",
       "\\textbf{Avarage\\_Dew\\_Temperature}      &      -0.0241  &        0.997     &    -0.024  &         0.981        &       -1.977    &        1.929     \\\\\n",
       "\\textbf{Avarage\\_Relative\\_Humidity}    &       0.1059  &        0.197     &     0.539  &         0.590        &       -0.279    &        0.491     \\\\\n",
       "\\textbf{Avarage\\_Wind\\_Speed}           &       0.2807  &        0.137     &     2.042  &         0.041        &        0.011    &        0.550     \\\\\n",
       "\\bottomrule\n",
       "\\end{tabular}\n",
       "%\\caption{Generalized Linear Model Regression Results}\n",
       "\\end{center}"
      ],
      "text/plain": [
       "<class 'statsmodels.iolib.summary.Summary'>\n",
       "\"\"\"\n",
       "                 Generalized Linear Model Regression Results                  \n",
       "==============================================================================\n",
       "Dep. Variable:          Precipitation   No. Observations:                  375\n",
       "Model:                            GLM   Df Residuals:                      368\n",
       "Model Family:                Binomial   Df Model:                            6\n",
       "Link Function:                  Logit   Scale:                          1.0000\n",
       "Method:                          IRLS   Log-Likelihood:                -67.886\n",
       "Date:                Fri, 22 Sep 2023   Deviance:                       135.77\n",
       "Time:                        13:46:19   Pearson chi2:                     327.\n",
       "No. Iterations:                    10   Pseudo R-squ. (CS):             0.1322\n",
       "Covariance Type:            nonrobust                                         \n",
       "================================================================================================\n",
       "                                   coef    std err          z      P>|z|      [0.025      0.975]\n",
       "------------------------------------------------------------------------------------------------\n",
       "Intercept                      114.8962     88.992      1.291      0.197     -59.525     289.318\n",
       "Avarage_Temperature             -0.2870      1.010     -0.284      0.776      -2.266       1.692\n",
       "Global_Radiation                 0.0006      0.001      1.025      0.306      -0.001       0.002\n",
       "Avarage_Atmospheric_Pressure    -0.1333      0.087     -1.533      0.125      -0.304       0.037\n",
       "Avarage_Dew_Temperature         -0.0241      0.997     -0.024      0.981      -1.977       1.929\n",
       "Avarage_Relative_Humidity        0.1059      0.197      0.539      0.590      -0.279       0.491\n",
       "Avarage_Wind_Speed               0.2807      0.137      2.042      0.041       0.011       0.550\n",
       "================================================================================================\n",
       "\"\"\""
      ]
     },
     "execution_count": 7,
     "metadata": {},
     "output_type": "execute_result"
    }
   ],
   "source": [
    "# Estimation of a binary logistic model\n",
    "prec_model = smf.glm(formula='Precipitation ~  Avarage_Temperature +\\\n",
    "                                Global_Radiation +\\\n",
    "                                Avarage_Atmospheric_Pressure +\\\n",
    "                                Avarage_Dew_Temperature +\\\n",
    "                                Avarage_Relative_Humidity +\\\n",
    "                                Avarage_Wind_Speed', data=aug_df_pd,\n",
    "                         family=sm.families.Binomial()).fit()\n",
    "\n",
    "# Model parameters\n",
    "prec_model.summary()"
   ]
  },
  {
   "cell_type": "code",
   "execution_count": 8,
   "id": "f78e65d5-f977-403e-ae2e-e1030bc5d00a",
   "metadata": {},
   "outputs": [
    {
     "data": {
      "text/html": [
       "<table class=\"simpletable\">\n",
       "<tr>\n",
       "                <td></td>                 <th>MODEL</th>  \n",
       "</tr>\n",
       "<tr>\n",
       "  <th>Intercept</th>                    <td>114.8962</td> \n",
       "</tr>\n",
       "<tr>\n",
       "  <th></th>                             <td>(88.9922)</td>\n",
       "</tr>\n",
       "<tr>\n",
       "  <th>Avarage_Temperature</th>           <td>-0.2870</td> \n",
       "</tr>\n",
       "<tr>\n",
       "  <th></th>                             <td>(1.0098)</td> \n",
       "</tr>\n",
       "<tr>\n",
       "  <th>Global_Radiation</th>              <td>0.0006</td>  \n",
       "</tr>\n",
       "<tr>\n",
       "  <th></th>                             <td>(0.0006)</td> \n",
       "</tr>\n",
       "<tr>\n",
       "  <th>Avarage_Atmospheric_Pressure</th>  <td>-0.1333</td> \n",
       "</tr>\n",
       "<tr>\n",
       "  <th></th>                             <td>(0.0869)</td> \n",
       "</tr>\n",
       "<tr>\n",
       "  <th>Avarage_Dew_Temperature</th>       <td>-0.0241</td> \n",
       "</tr>\n",
       "<tr>\n",
       "  <th></th>                             <td>(0.9967)</td> \n",
       "</tr>\n",
       "<tr>\n",
       "  <th>Avarage_Relative_Humidity</th>     <td>0.1059</td>  \n",
       "</tr>\n",
       "<tr>\n",
       "  <th></th>                             <td>(0.1966)</td> \n",
       "</tr>\n",
       "<tr>\n",
       "  <th>Avarage_Wind_Speed</th>           <td>0.2807**</td> \n",
       "</tr>\n",
       "<tr>\n",
       "  <th></th>                             <td>(0.1374)</td> \n",
       "</tr>\n",
       "<tr>\n",
       "  <th>N</th>                               <td>375</td>   \n",
       "</tr>\n",
       "<tr>\n",
       "  <th>Log-lik</th>                       <td>-67.89</td>  \n",
       "</tr>\n",
       "</table><br/>\n",
       "Standard errors in parentheses.<br/>\n",
       "* p<.1, ** p<.05, ***p<.01"
      ],
      "text/latex": [
       "\\begin{table}\n",
       "\\caption{}\n",
       "\\label{}\n",
       "\\begin{center}\n",
       "\\begin{tabular}{ll}\n",
       "\\hline\n",
       "                               & MODEL      \\\\\n",
       "\\hline\n",
       "Intercept                      & 114.8962   \\\\\n",
       "                               & (88.9922)  \\\\\n",
       "Avarage\\_Temperature           & -0.2870    \\\\\n",
       "                               & (1.0098)   \\\\\n",
       "Global\\_Radiation              & 0.0006     \\\\\n",
       "                               & (0.0006)   \\\\\n",
       "Avarage\\_Atmospheric\\_Pressure & -0.1333    \\\\\n",
       "                               & (0.0869)   \\\\\n",
       "Avarage\\_Dew\\_Temperature      & -0.0241    \\\\\n",
       "                               & (0.9967)   \\\\\n",
       "Avarage\\_Relative\\_Humidity    & 0.1059     \\\\\n",
       "                               & (0.1966)   \\\\\n",
       "Avarage\\_Wind\\_Speed           & 0.2807**   \\\\\n",
       "                               & (0.1374)   \\\\\n",
       "N                              & 375        \\\\\n",
       "Log-lik                        & -67.89     \\\\\n",
       "\\hline\n",
       "\\end{tabular}\n",
       "\\end{center}\n",
       "\\end{table}\n",
       "\\bigskip\n",
       "Standard errors in parentheses. \\newline \n",
       "* p<.1, ** p<.05, ***p<.01"
      ],
      "text/plain": [
       "<class 'statsmodels.iolib.summary2.Summary'>\n",
       "\"\"\"\n",
       "\n",
       "======================================\n",
       "                               MODEL  \n",
       "--------------------------------------\n",
       "Intercept                    114.8962 \n",
       "                             (88.9922)\n",
       "Avarage_Temperature          -0.2870  \n",
       "                             (1.0098) \n",
       "Global_Radiation             0.0006   \n",
       "                             (0.0006) \n",
       "Avarage_Atmospheric_Pressure -0.1333  \n",
       "                             (0.0869) \n",
       "Avarage_Dew_Temperature      -0.0241  \n",
       "                             (0.9967) \n",
       "Avarage_Relative_Humidity    0.1059   \n",
       "                             (0.1966) \n",
       "Avarage_Wind_Speed           0.2807** \n",
       "                             (0.1374) \n",
       "N                            375      \n",
       "Log-lik                      -67.89   \n",
       "======================================\n",
       "Standard errors in parentheses.\n",
       "* p<.1, ** p<.05, ***p<.01\n",
       "\"\"\""
      ]
     },
     "execution_count": 8,
     "metadata": {},
     "output_type": "execute_result"
    }
   ],
   "source": [
    "# Model outputs through the 'summary_col' function\n",
    "summary_col([prec_model],\n",
    "            model_names=[\"MODEL\"],\n",
    "            stars=True,\n",
    "            info_dict = {\n",
    "                'N':lambda x: \"{0:d}\".format(int(x.nobs)),\n",
    "                'Log-lik':lambda x: \"{:.2f}\".format(x.llf)\n",
    "        })"
   ]
  },
  {
   "cell_type": "code",
   "execution_count": 9,
   "id": "c30991fb-a6fd-4f9f-b84d-aa428869c833",
   "metadata": {},
   "outputs": [
    {
     "data": {
      "text/plain": [
       "0    0.199507\n",
       "dtype: float64"
      ]
     },
     "execution_count": 9,
     "metadata": {},
     "output_type": "execute_result"
    }
   ],
   "source": [
    "# Making predictions for the 'prec_model'.\n",
    "prec_model.predict(pd.DataFrame({'Avarage_Temperature':[12.15],\n",
    "                                'Global_Radiation':[0.1],\n",
    "                                'Avarage_Atmospheric_Pressure':[929.3],\n",
    "                                'Avarage_Dew_Temperature':[12.1],\n",
    "                                'Avarage_Relative_Humidity':[100.0],\n",
    "                                'Avarage_Wind_Speed':[2.7]}))"
   ]
  },
  {
   "cell_type": "code",
   "execution_count": 10,
   "id": "b603649d-55c8-44cb-9c70-ef77a36ad2ef",
   "metadata": {},
   "outputs": [
    {
     "data": {
      "text/html": [
       "<div>\n",
       "<style scoped>\n",
       "    .dataframe tbody tr th:only-of-type {\n",
       "        vertical-align: middle;\n",
       "    }\n",
       "\n",
       "    .dataframe tbody tr th {\n",
       "        vertical-align: top;\n",
       "    }\n",
       "\n",
       "    .dataframe thead th {\n",
       "        text-align: right;\n",
       "    }\n",
       "</style>\n",
       "<table border=\"1\" class=\"dataframe\">\n",
       "  <thead>\n",
       "    <tr style=\"text-align: right;\">\n",
       "      <th></th>\n",
       "      <th>Precipitation</th>\n",
       "      <th>Global_Radiation</th>\n",
       "      <th>Avarage_Atmospheric_Pressure</th>\n",
       "      <th>Avarage_Temperature</th>\n",
       "      <th>Avarage_Dew_Temperature</th>\n",
       "      <th>Avarage_Relative_Humidity</th>\n",
       "      <th>Avarage_Wind_Speed</th>\n",
       "      <th>phat</th>\n",
       "    </tr>\n",
       "  </thead>\n",
       "  <tbody>\n",
       "    <tr>\n",
       "      <th>0</th>\n",
       "      <td>0</td>\n",
       "      <td>0.1</td>\n",
       "      <td>929.30</td>\n",
       "      <td>12.15</td>\n",
       "      <td>12.10</td>\n",
       "      <td>100.0</td>\n",
       "      <td>2.70</td>\n",
       "      <td>0.199507</td>\n",
       "    </tr>\n",
       "    <tr>\n",
       "      <th>1</th>\n",
       "      <td>0</td>\n",
       "      <td>5.0</td>\n",
       "      <td>929.75</td>\n",
       "      <td>12.35</td>\n",
       "      <td>12.35</td>\n",
       "      <td>100.0</td>\n",
       "      <td>2.45</td>\n",
       "      <td>0.170808</td>\n",
       "    </tr>\n",
       "    <tr>\n",
       "      <th>2</th>\n",
       "      <td>0</td>\n",
       "      <td>135.8</td>\n",
       "      <td>930.20</td>\n",
       "      <td>12.55</td>\n",
       "      <td>12.55</td>\n",
       "      <td>100.0</td>\n",
       "      <td>2.50</td>\n",
       "      <td>0.166958</td>\n",
       "    </tr>\n",
       "    <tr>\n",
       "      <th>3</th>\n",
       "      <td>0</td>\n",
       "      <td>488.0</td>\n",
       "      <td>930.40</td>\n",
       "      <td>13.35</td>\n",
       "      <td>13.35</td>\n",
       "      <td>100.0</td>\n",
       "      <td>2.90</td>\n",
       "      <td>0.174627</td>\n",
       "    </tr>\n",
       "    <tr>\n",
       "      <th>4</th>\n",
       "      <td>0</td>\n",
       "      <td>1631.1</td>\n",
       "      <td>930.60</td>\n",
       "      <td>15.50</td>\n",
       "      <td>13.65</td>\n",
       "      <td>89.5</td>\n",
       "      <td>3.05</td>\n",
       "      <td>0.071188</td>\n",
       "    </tr>\n",
       "  </tbody>\n",
       "</table>\n",
       "</div>"
      ],
      "text/plain": [
       "   Precipitation  Global_Radiation  ...  Avarage_Wind_Speed      phat\n",
       "0              0               0.1  ...                2.70  0.199507\n",
       "1              0               5.0  ...                2.45  0.170808\n",
       "2              0             135.8  ...                2.50  0.166958\n",
       "3              0             488.0  ...                2.90  0.174627\n",
       "4              0            1631.1  ...                3.05  0.071188\n",
       "\n",
       "[5 rows x 8 columns]"
      ]
     },
     "execution_count": 10,
     "metadata": {},
     "output_type": "execute_result"
    }
   ],
   "source": [
    "# Construction of a confusion matrix\n",
    "\n",
    "# Adding predicted probability values ​​to the database\n",
    "aug_df_pd['phat'] = prec_model.predict()\n",
    "\n",
    "# Viewing the database with the 'phat' variable\n",
    "aug_df_pd.head()"
   ]
  },
  {
   "cell_type": "code",
   "execution_count": 11,
   "id": "4be3196c-761c-4b19-bf0d-f58f0fafd319",
   "metadata": {},
   "outputs": [],
   "source": [
    "# Construction of function to define the confusion matrix\n",
    "from sklearn.metrics import confusion_matrix, accuracy_score,\\\n",
    "    ConfusionMatrixDisplay, recall_score\n",
    "\n",
    "def matriz_confusao(predicts, observed, cutoff):\n",
    "    \n",
    "    values = predicts.values\n",
    "    \n",
    "    binary_prediction = []\n",
    "        \n",
    "    for item in values:\n",
    "        if item < cutoff:\n",
    "            binary_prediction.append(0)\n",
    "        else:\n",
    "            binary_prediction.append(1)\n",
    "           \n",
    "    cm = confusion_matrix(binary_prediction, observed)\n",
    "    disp = ConfusionMatrixDisplay(confusion_matrix=cm)\n",
    "    disp.plot()\n",
    "    plt.xlabel('True')\n",
    "    plt.ylabel('Classified')\n",
    "    plt.gca().invert_xaxis()\n",
    "    plt.gca().invert_yaxis()\n",
    "    plt.show()\n",
    "        \n",
    "    sensitivity = recall_score(observed, binary_prediction, pos_label=1)\n",
    "    specificity = recall_score(observed, binary_prediction, pos_label=0)\n",
    "    accuracy = accuracy_score(observed, binary_prediction)\n",
    "\n",
    "    # Visualizing the main indicators of this confusion matrix\n",
    "    indicators = pd.DataFrame({'Sensitivity':[sensitivity],\n",
    "                                'Specificity':[specificity],\n",
    "                                'Accuracy':[accuracy]})\n",
    "    return indicators"
   ]
  },
  {
   "cell_type": "code",
   "execution_count": 12,
   "id": "584063c5-3854-49cb-b2a0-9435c5276292",
   "metadata": {},
   "outputs": [
    {
     "data": {
      "image/png": "[encoded data removed]",
      "text/plain": [
       "<Figure size 432x288 with 2 Axes>"
      ]
     },
     "metadata": {},
     "output_type": "display_data"
    },
    {
     "data": {
      "image/png": "[encoded data removed]",
      "text/plain": [
       "<Figure size 432x288 with 2 Axes>"
      ]
     },
     "metadata": {},
     "output_type": "display_data"
    },
    {
     "data": {
      "image/png": "[encoded data removed]",
      "text/plain": [
       "<Figure size 432x288 with 2 Axes>"
      ]
     },
     "metadata": {},
     "output_type": "display_data"
    },
    {
     "data": {
      "text/html": [
       "<div>\n",
       "<style scoped>\n",
       "    .dataframe tbody tr th:only-of-type {\n",
       "        vertical-align: middle;\n",
       "    }\n",
       "\n",
       "    .dataframe tbody tr th {\n",
       "        vertical-align: top;\n",
       "    }\n",
       "\n",
       "    .dataframe thead th {\n",
       "        text-align: right;\n",
       "    }\n",
       "</style>\n",
       "<table border=\"1\" class=\"dataframe\">\n",
       "  <thead>\n",
       "    <tr style=\"text-align: right;\">\n",
       "      <th></th>\n",
       "      <th>Sensitivity</th>\n",
       "      <th>Specificity</th>\n",
       "      <th>Accuracy</th>\n",
       "    </tr>\n",
       "  </thead>\n",
       "  <tbody>\n",
       "    <tr>\n",
       "      <th>0</th>\n",
       "      <td>0.384615</td>\n",
       "      <td>0.965616</td>\n",
       "      <td>0.925333</td>\n",
       "    </tr>\n",
       "  </tbody>\n",
       "</table>\n",
       "</div>"
      ],
      "text/plain": [
       "   Sensitivity  Specificity  Accuracy\n",
       "0     0.384615     0.965616  0.925333"
      ]
     },
     "execution_count": 12,
     "metadata": {},
     "output_type": "execute_result"
    }
   ],
   "source": [
    "# Confusion matrices proper\n",
    "\n",
    "# Confusion matrix for cutoff = 0.5\n",
    "matriz_confusao(observed=aug_df_pd['Precipitation'],\n",
    "                predicts=aug_df_pd['phat'], \n",
    "                cutoff=0.5)\n",
    "\n",
    "# Confusion matrix for cutoff = 0.3\n",
    "matriz_confusao(observed=aug_df_pd['Precipitation'],\n",
    "                predicts=aug_df_pd['phat'], \n",
    "                cutoff=0.3)\n",
    "\n",
    "# Confusion matrix for cutoff = 0.7\n",
    "matriz_confusao(observed=aug_df_pd['Precipitation'],\n",
    "                predicts=aug_df_pd['phat'], \n",
    "                cutoff=0.3)"
   ]
  },
  {
   "cell_type": "code",
   "execution_count": 13,
   "id": "25cd6b5d-a6e9-4098-8a79-d27ae1129a1c",
   "metadata": {},
   "outputs": [
    {
     "data": {
      "image/png": "[encoded data removed]",
      "text/plain": [
       "<Figure size 720x720 with 1 Axes>"
      ]
     },
     "metadata": {},
     "output_type": "display_data"
    }
   ],
   "source": [
    "# Construction of the ROC curve\n",
    "from sklearn.metrics import roc_curve, auc\n",
    "\n",
    "# 'roc_curve' function from sklearn's 'metrics' package\n",
    "fpr, tpr, thresholds =roc_curve(aug_df_pd['Precipitation'],aug_df_pd['phat'])\n",
    "roc_auc = auc(fpr, tpr)\n",
    "\n",
    "# Calculation of the GINI coefficient\n",
    "gini = (roc_auc - 0.5)/(0.5)\n",
    "\n",
    "# Plotting the ROC curve\n",
    "plt.figure(figsize=(10,10))\n",
    "plt.plot(fpr,tpr, '-o', color='navy')\n",
    "plt.plot(fpr,fpr, color='gray')\n",
    "plt.title('Área abaixo da curva: %g' % roc_auc.round(4) +\n",
    "          ' | Coeficiente de GINI: %g' % gini.round(4), fontsize=17)\n",
    "plt.xlabel('1 - Especificidade', fontsize=15)\n",
    "plt.ylabel('Sensitividade', fontsize=15)\n",
    "plt.show()"
   ]
  },
  {
   "cell_type": "code",
   "execution_count": 14,
   "id": "a329b4f3-a65c-4192-8bc3-20b4a8a8a04b",
   "metadata": {},
   "outputs": [
    {
     "data": {
      "text/plain": [
       "<function matplotlib.pyplot.show(close=None, block=None)>"
      ]
     },
     "execution_count": 14,
     "metadata": {},
     "output_type": "execute_result"
    },
    {
     "data": {
      "image/png": "[encoded data removed]",
      "text/plain": [
       "<Figure size 1080x720 with 1 Axes>"
      ]
     },
     "metadata": {},
     "output_type": "display_data"
    }
   ],
   "source": [
    "# Construction of the sigmoid\n",
    "# Probability of event depending on the variable 'Avarage_Relative_Humidity', for example\n",
    "\n",
    "plt.figure(figsize=(15,10))\n",
    "sns.regplot(x=aug_df_pd['Avarage_Relative_Humidity'], y=aug_df_pd['Precipitation'],\n",
    "            data=aug_df_pd, logistic=True, ci=None, color='navy',\n",
    "            marker='o', scatter_kws={'color':'navy', 'alpha':0.5, 's':170})\n",
    "plt.axhline(y = 0.5, color = 'grey', linestyle = ':')\n",
    "plt.xlabel('Avarage Relative Humidity', fontsize=17)\n",
    "plt.ylabel('Precipitation Probability', fontsize=17)\n",
    "plt.show"
   ]
  }
 ],
 "metadata": {
  "kernelspec": {
   "display_name": "Python 3 (Spyder)",
   "language": "python3",
   "name": "python3"
  },
  "language_info": {
   "codemirror_mode": {
    "name": "ipython",
    "version": 3
   },
   "file_extension": ".py",
   "mimetype": "text/x-python",
   "name": "python",
   "nbconvert_exporter": "python",
   "pygments_lexer": "ipython3",
   "version": "3.11.4"
  }
 },
 "nbformat": 4,
 "nbformat_minor": 5
}
